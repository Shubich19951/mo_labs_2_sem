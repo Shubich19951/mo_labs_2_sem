{
 "cells": [
  {
   "cell_type": "code",
   "execution_count": 2,
   "metadata": {},
   "outputs": [
    {
     "name": "stderr",
     "output_type": "stream",
     "text": [
      "Using TensorFlow backend.\n"
     ]
    }
   ],
   "source": [
    "import os\n",
    "import numpy as np \n",
    "import pandas as pd \n",
    "import re\n",
    "import nltk\n",
    "from nltk.corpus import stopwords\n",
    "from keras.preprocessing.sequence import pad_sequences\n",
    "from keras.models import Sequential\n",
    "from keras.layers.core import Activation, Dropout, Dense\n",
    "from keras.layers import Flatten\n",
    "from keras.layers import GlobalMaxPooling1D,Conv1D,LSTM\n",
    "from keras.layers.embeddings import Embedding\n",
    "from sklearn.model_selection import train_test_split\n",
    "from keras.preprocessing.text import Tokenizer\n",
    "from tqdm import tqdm\n",
    "from sklearn.metrics import f1_score, confusion_matrix, accuracy_score"
   ]
  },
  {
   "cell_type": "code",
   "execution_count": null,
   "metadata": {},
   "outputs": [],
   "source": [
    "path = 'aclImdb/train/'"
   ]
  },
  {
   "cell_type": "code",
   "execution_count": 3,
   "metadata": {},
   "outputs": [
    {
     "name": "stdout",
     "output_type": "stream",
     "text": [
      "Reading Positive dataset: aclImdb/train/+pos/*.txt\n",
      "Reading Positive dataset: aclImdb/train/+neg/*.txt\n"
     ]
    }
   ],
   "source": [
    "sentence_list = []\n",
    "labels = []\n",
    "\n",
    "print(f\"Reading Positive dataset: {path}+pos/*.txt\")\n",
    "for filename in os.listdir(path+'pos/'):\n",
    "    filepath = f\"{path}/pos/{filename}\"\n",
    "    with open(filepath, \"r\") as fp:\n",
    "        txt = fp.read().replace(\"<br />\", \"\\n\")\n",
    "        sentence_list.append(txt)\n",
    "        labels.append(1)\n",
    "\n",
    "print(f\"Reading Positive dataset: {path}+neg/*.txt\")\n",
    "for filename in os.listdir(path+'neg/'):\n",
    "    filepath = f\"{path}/neg/{filename}\"\n",
    "    with open(filepath, \"r\") as fp:\n",
    "        txt = fp.read().replace(\"<br />\", \"\\n\")\n",
    "        sentence_list.append(txt)\n",
    "        labels.append(0)"
   ]
  },
  {
   "cell_type": "code",
   "execution_count": 4,
   "metadata": {},
   "outputs": [],
   "source": [
    "dataset = pd.DataFrame(data={'review': sentence_list, 'label': labels})"
   ]
  },
  {
   "cell_type": "code",
   "execution_count": 5,
   "metadata": {},
   "outputs": [
    {
     "data": {
      "text/plain": [
       "(25000, 2)"
      ]
     },
     "execution_count": 5,
     "metadata": {},
     "output_type": "execute_result"
    }
   ],
   "source": [
    "dataset.shape"
   ]
  },
  {
   "cell_type": "code",
   "execution_count": 6,
   "metadata": {},
   "outputs": [
    {
     "data": {
      "text/plain": [
       "'This is an early film \"Pilot\" for the hit Canadian tv show Trailer Park Boys. It was played to executives at a few networks before Showcase decided to sign them up for a tv series. Great acting and a very funny cast make this one of the best cult comedy films. The movie plot is that these two small time criminals go around \"exterminating\" peoples pets for money. If you have a dog next door whos barking all night these are the guys you go to! But they get into trouble when they come across a job too big for them to deal with and end up in a shootout. Watch this movie if you want to understand the beginning of the tv series. I highly recommend it!\\n\\nRated R for swearing, violence, and drug use.\\n\\nIts not too offensive either (they dont actually show killing animals)'"
      ]
     },
     "execution_count": 6,
     "metadata": {},
     "output_type": "execute_result"
    }
   ],
   "source": [
    "dataset['review'][3]"
   ]
  },
  {
   "cell_type": "markdown",
   "metadata": {},
   "source": [
    "### PreProcessing Reviews\n"
   ]
  },
  {
   "cell_type": "code",
   "execution_count": 7,
   "metadata": {},
   "outputs": [],
   "source": [
    "TAG_RE = re.compile(r'<[^>]+>')\n",
    "def remove_tags(text):\n",
    "    return TAG_RE.sub('', text)\n",
    "\n",
    "def preprocessing_text(text):\n",
    "    # Remove html tag\n",
    "    sentence = remove_tags(text)\n",
    "    # Remove link\n",
    "    sentence = re.sub(r'https:\\/\\/[a-zA-Z]*\\.com',' ',sentence)\n",
    "    # Remove number\n",
    "    sentence = re.sub(r'\\d+',' ',sentence)\n",
    "    # Remove white space\n",
    "    sentence = re.sub(r'\\s+',' ',sentence)\n",
    "    # Remove single character\n",
    "    sentence = re.sub(r\"\\b[a-zA-Z]\\b\", ' ', sentence)\n",
    "    # Remove bracket\n",
    "    sentence = re.sub(r'\\W+',' ',sentence)\n",
    "    # Make sentence lowercase\n",
    "    sentence = sentence.lower()\n",
    "    return sentence"
   ]
  },
  {
   "cell_type": "code",
   "execution_count": 8,
   "metadata": {},
   "outputs": [
    {
     "data": {
      "text/plain": [
       "'I cannot accept the negative comments of other reviewers. They are too critical, perhaps because they are stuck in the past. I would like to see a comment from someone who had never seen Basic Instinct 1, perhaps someone very young ? I left the cinema feeling glad that I had not been swayed by the IMDb reviewers. 14 hours later I am still trying to find flaws in the plot but I cannot think of anything serious. My advice to everyone is see it for yourself and make up your own mind.\\n\\nIt follows a similar pattern to Basic Instinct 1 but the plot is less confused. It still left me wondering at the end but in a more satisfactory way. Sharon Stone is as sexy and evil as before and wears her 48 years extremely well; this remains her defining role. David Morrisey was satisfactory even though he is no Michael Douglas. Of the supporting cast I particularly liked David Thewlis as the police detective.'"
      ]
     },
     "execution_count": 8,
     "metadata": {},
     "output_type": "execute_result"
    }
   ],
   "source": [
    "dataset['review'][5]"
   ]
  },
  {
   "cell_type": "code",
   "execution_count": 9,
   "metadata": {},
   "outputs": [
    {
     "name": "stderr",
     "output_type": "stream",
     "text": [
      "100%|██████████| 25000/25000 [00:05<00:00, 4924.78it/s]\n"
     ]
    }
   ],
   "source": [
    "pre_proces_sen = []\n",
    "sentences = list(dataset['review'])\n",
    "for sen in tqdm(sentences):\n",
    "    pre_proces_sen.append(preprocessing_text(sen))"
   ]
  },
  {
   "cell_type": "code",
   "execution_count": 10,
   "metadata": {},
   "outputs": [
    {
     "data": {
      "text/plain": [
       "' cannot accept the negative comments of other reviewers they are too critical perhaps because they are stuck in the past would like to see comment from someone who had never seen basic instinct perhaps someone very young left the cinema feeling glad that had not been swayed by the imdb reviewers hours later am still trying to find flaws in the plot but cannot think of anything serious my advice to everyone is see it for yourself and make up your own mind it follows similar pattern to basic instinct but the plot is less confused it still left me wondering at the end but in more satisfactory way sharon stone is as sexy and evil as before and wears her years extremely well this remains her defining role david morrisey was satisfactory even though he is no michael douglas of the supporting cast particularly liked david thewlis as the police detective '"
      ]
     },
     "execution_count": 10,
     "metadata": {},
     "output_type": "execute_result"
    }
   ],
   "source": [
    "pre_proces_sen[5]"
   ]
  },
  {
   "cell_type": "markdown",
   "metadata": {},
   "source": [
    "### Removing Stopwords"
   ]
  },
  {
   "cell_type": "code",
   "execution_count": 11,
   "metadata": {},
   "outputs": [
    {
     "name": "stderr",
     "output_type": "stream",
     "text": [
      "[nltk_data] Downloading package stopwords to /home/aksel/nltk_data...\n",
      "[nltk_data]   Package stopwords is already up-to-date!\n",
      "[nltk_data] Downloading package punkt to /home/aksel/nltk_data...\n",
      "[nltk_data]   Package punkt is already up-to-date!\n"
     ]
    }
   ],
   "source": [
    "import nltk\n",
    "nltk.download('stopwords')\n",
    "nltk.download('punkt')\n",
    "from nltk.corpus import stopwords\n",
    "from nltk.tokenize import word_tokenize"
   ]
  },
  {
   "cell_type": "code",
   "execution_count": 12,
   "metadata": {},
   "outputs": [],
   "source": [
    "stopwords=set(stopwords.words('english'))"
   ]
  },
  {
   "cell_type": "code",
   "execution_count": 13,
   "metadata": {},
   "outputs": [
    {
     "data": {
      "text/plain": [
       "{'a',\n",
       " 'about',\n",
       " 'above',\n",
       " 'after',\n",
       " 'again',\n",
       " 'against',\n",
       " 'ain',\n",
       " 'all',\n",
       " 'am',\n",
       " 'an',\n",
       " 'and',\n",
       " 'any',\n",
       " 'are',\n",
       " 'aren',\n",
       " \"aren't\",\n",
       " 'as',\n",
       " 'at',\n",
       " 'be',\n",
       " 'because',\n",
       " 'been',\n",
       " 'before',\n",
       " 'being',\n",
       " 'below',\n",
       " 'between',\n",
       " 'both',\n",
       " 'but',\n",
       " 'by',\n",
       " 'can',\n",
       " 'couldn',\n",
       " \"couldn't\",\n",
       " 'd',\n",
       " 'did',\n",
       " 'didn',\n",
       " \"didn't\",\n",
       " 'do',\n",
       " 'does',\n",
       " 'doesn',\n",
       " \"doesn't\",\n",
       " 'doing',\n",
       " 'don',\n",
       " \"don't\",\n",
       " 'down',\n",
       " 'during',\n",
       " 'each',\n",
       " 'few',\n",
       " 'for',\n",
       " 'from',\n",
       " 'further',\n",
       " 'had',\n",
       " 'hadn',\n",
       " \"hadn't\",\n",
       " 'has',\n",
       " 'hasn',\n",
       " \"hasn't\",\n",
       " 'have',\n",
       " 'haven',\n",
       " \"haven't\",\n",
       " 'having',\n",
       " 'he',\n",
       " 'her',\n",
       " 'here',\n",
       " 'hers',\n",
       " 'herself',\n",
       " 'him',\n",
       " 'himself',\n",
       " 'his',\n",
       " 'how',\n",
       " 'i',\n",
       " 'if',\n",
       " 'in',\n",
       " 'into',\n",
       " 'is',\n",
       " 'isn',\n",
       " \"isn't\",\n",
       " 'it',\n",
       " \"it's\",\n",
       " 'its',\n",
       " 'itself',\n",
       " 'just',\n",
       " 'll',\n",
       " 'm',\n",
       " 'ma',\n",
       " 'me',\n",
       " 'mightn',\n",
       " \"mightn't\",\n",
       " 'more',\n",
       " 'most',\n",
       " 'mustn',\n",
       " \"mustn't\",\n",
       " 'my',\n",
       " 'myself',\n",
       " 'needn',\n",
       " \"needn't\",\n",
       " 'no',\n",
       " 'nor',\n",
       " 'not',\n",
       " 'now',\n",
       " 'o',\n",
       " 'of',\n",
       " 'off',\n",
       " 'on',\n",
       " 'once',\n",
       " 'only',\n",
       " 'or',\n",
       " 'other',\n",
       " 'our',\n",
       " 'ours',\n",
       " 'ourselves',\n",
       " 'out',\n",
       " 'over',\n",
       " 'own',\n",
       " 're',\n",
       " 's',\n",
       " 'same',\n",
       " 'shan',\n",
       " \"shan't\",\n",
       " 'she',\n",
       " \"she's\",\n",
       " 'should',\n",
       " \"should've\",\n",
       " 'shouldn',\n",
       " \"shouldn't\",\n",
       " 'so',\n",
       " 'some',\n",
       " 'such',\n",
       " 't',\n",
       " 'than',\n",
       " 'that',\n",
       " \"that'll\",\n",
       " 'the',\n",
       " 'their',\n",
       " 'theirs',\n",
       " 'them',\n",
       " 'themselves',\n",
       " 'then',\n",
       " 'there',\n",
       " 'these',\n",
       " 'they',\n",
       " 'this',\n",
       " 'those',\n",
       " 'through',\n",
       " 'to',\n",
       " 'too',\n",
       " 'under',\n",
       " 'until',\n",
       " 'up',\n",
       " 've',\n",
       " 'very',\n",
       " 'was',\n",
       " 'wasn',\n",
       " \"wasn't\",\n",
       " 'we',\n",
       " 'were',\n",
       " 'weren',\n",
       " \"weren't\",\n",
       " 'what',\n",
       " 'when',\n",
       " 'where',\n",
       " 'which',\n",
       " 'while',\n",
       " 'who',\n",
       " 'whom',\n",
       " 'why',\n",
       " 'will',\n",
       " 'with',\n",
       " 'won',\n",
       " \"won't\",\n",
       " 'wouldn',\n",
       " \"wouldn't\",\n",
       " 'y',\n",
       " 'you',\n",
       " \"you'd\",\n",
       " \"you'll\",\n",
       " \"you're\",\n",
       " \"you've\",\n",
       " 'your',\n",
       " 'yours',\n",
       " 'yourself',\n",
       " 'yourselves'}"
      ]
     },
     "execution_count": 13,
     "metadata": {},
     "output_type": "execute_result"
    }
   ],
   "source": [
    "stopwords"
   ]
  },
  {
   "cell_type": "code",
   "execution_count": 14,
   "metadata": {},
   "outputs": [
    {
     "name": "stderr",
     "output_type": "stream",
     "text": [
      "100%|██████████| 25000/25000 [00:18<00:00, 1364.81it/s]\n"
     ]
    }
   ],
   "source": [
    "for i in tqdm(range(len(pre_proces_sen))):\n",
    "    x = pre_proces_sen[i]\n",
    "    x = word_tokenize(x)\n",
    "    new_x_list = [word for word in x if word not in stopwords]\n",
    "    pre_proces_sen[i] = ' '.join(new_x_list)"
   ]
  },
  {
   "cell_type": "code",
   "execution_count": 15,
   "metadata": {},
   "outputs": [
    {
     "data": {
      "text/plain": [
       "'accept negative comments reviewers critical perhaps stuck past would like see comment someone never seen basic instinct perhaps someone young left cinema feeling glad swayed imdb reviewers hours later still trying find flaws plot think anything serious advice everyone see make mind follows similar pattern basic instinct plot less confused still left wondering end satisfactory way sharon stone sexy evil wears years extremely well remains defining role david morrisey satisfactory even though michael douglas supporting cast particularly liked david thewlis police detective'"
      ]
     },
     "execution_count": 15,
     "metadata": {},
     "output_type": "execute_result"
    }
   ],
   "source": [
    "pre_proces_sen[5]"
   ]
  },
  {
   "cell_type": "code",
   "execution_count": 16,
   "metadata": {},
   "outputs": [],
   "source": [
    "dataset['review'] = pre_proces_sen"
   ]
  },
  {
   "cell_type": "code",
   "execution_count": 17,
   "metadata": {},
   "outputs": [
    {
     "data": {
      "text/html": [
       "<div>\n",
       "<style scoped>\n",
       "    .dataframe tbody tr th:only-of-type {\n",
       "        vertical-align: middle;\n",
       "    }\n",
       "\n",
       "    .dataframe tbody tr th {\n",
       "        vertical-align: top;\n",
       "    }\n",
       "\n",
       "    .dataframe thead th {\n",
       "        text-align: right;\n",
       "    }\n",
       "</style>\n",
       "<table border=\"1\" class=\"dataframe\">\n",
       "  <thead>\n",
       "    <tr style=\"text-align: right;\">\n",
       "      <th></th>\n",
       "      <th>review</th>\n",
       "      <th>label</th>\n",
       "    </tr>\n",
       "  </thead>\n",
       "  <tbody>\n",
       "    <tr>\n",
       "      <td>0</td>\n",
       "      <td>william shakespeare would proud particular ver...</td>\n",
       "      <td>1</td>\n",
       "    </tr>\n",
       "    <tr>\n",
       "      <td>1</td>\n",
       "      <td>half dozen short stories varying interest enli...</td>\n",
       "      <td>1</td>\n",
       "    </tr>\n",
       "    <tr>\n",
       "      <td>2</td>\n",
       "      <td>easy call guys dolls great got frank sinatra m...</td>\n",
       "      <td>1</td>\n",
       "    </tr>\n",
       "    <tr>\n",
       "      <td>3</td>\n",
       "      <td>early film pilot hit canadian tv show trailer ...</td>\n",
       "      <td>1</td>\n",
       "    </tr>\n",
       "    <tr>\n",
       "      <td>4</td>\n",
       "      <td>delightful disney film angela lansbury fine fo...</td>\n",
       "      <td>1</td>\n",
       "    </tr>\n",
       "  </tbody>\n",
       "</table>\n",
       "</div>"
      ],
      "text/plain": [
       "                                              review  label\n",
       "0  william shakespeare would proud particular ver...      1\n",
       "1  half dozen short stories varying interest enli...      1\n",
       "2  easy call guys dolls great got frank sinatra m...      1\n",
       "3  early film pilot hit canadian tv show trailer ...      1\n",
       "4  delightful disney film angela lansbury fine fo...      1"
      ]
     },
     "execution_count": 17,
     "metadata": {},
     "output_type": "execute_result"
    }
   ],
   "source": [
    "dataset.head()"
   ]
  },
  {
   "cell_type": "code",
   "execution_count": 18,
   "metadata": {},
   "outputs": [],
   "source": [
    "X_train, X_test, y_train, y_test = train_test_split(dataset['review'].values,\n",
    "                                                    dataset['label'].values, test_size=0.20, random_state=42)\n",
    "X_train, X_val, y_train, y_val = train_test_split(X_train, y_train, test_size=0.25, random_state=42)"
   ]
  },
  {
   "cell_type": "code",
   "execution_count": 19,
   "metadata": {},
   "outputs": [],
   "source": [
    "tokenizer = Tokenizer()\n",
    "tokenizer.fit_on_texts(dataset['review'].values)\n",
    "\n",
    "X_train = tokenizer.texts_to_sequences(X_train)\n",
    "X_val = tokenizer.texts_to_sequences(X_val)\n",
    "X_test = tokenizer.texts_to_sequences(X_test)"
   ]
  },
  {
   "cell_type": "code",
   "execution_count": 20,
   "metadata": {},
   "outputs": [
    {
     "name": "stdout",
     "output_type": "stream",
     "text": [
      "73395\n"
     ]
    }
   ],
   "source": [
    "vocab_size = len(tokenizer.word_index) + 1\n",
    "print(vocab_size)\n",
    "maxlen = 100\n",
    "X_train = pad_sequences(X_train, padding='post', maxlen=maxlen)\n",
    "X_val = pad_sequences(X_val, padding='post', maxlen=maxlen)\n",
    "X_test = pad_sequences(X_test, padding='post', maxlen=maxlen)"
   ]
  },
  {
   "cell_type": "code",
   "execution_count": 21,
   "metadata": {},
   "outputs": [],
   "source": [
    "EMBED_DIM = 500"
   ]
  },
  {
   "cell_type": "code",
   "execution_count": 24,
   "metadata": {},
   "outputs": [
    {
     "name": "stdout",
     "output_type": "stream",
     "text": [
      "           OPERATION           DATA DIMENSIONS   WEIGHTS(N)   WEIGHTS(%)\n",
      "\n",
      "               Input   #####         100\n",
      "           Embedding   emb | -------------------  36697500    98.3%\n",
      "                       #####    100  500\n",
      "             Dropout    | || -------------------         0     0.0%\n",
      "                       #####    100  500\n",
      "       Bidirectional   ????? -------------------    644096     1.7%\n",
      "                       #####         256\n",
      "             Dropout    | || -------------------         0     0.0%\n",
      "                       #####         256\n",
      "               Dense   XXXXX -------------------       257     0.0%\n",
      "             sigmoid   #####           1\n"
     ]
    }
   ],
   "source": [
    "from keras.wrappers.scikit_learn import KerasRegressor\n",
    "from sklearn.model_selection import cross_val_score\n",
    "from keras.models import Sequential\n",
    "from keras.layers import Dense, Dropout\n",
    "from keras.layers import LSTM, Bidirectional\n",
    "from livelossplot import PlotLossesKeras\n",
    "from keras_sequential_ascii import keras2ascii\n",
    "from keras import optimizers\n",
    "from keras.utils import to_categorical\n",
    "from keras import regularizers\n",
    "\n",
    "model = Sequential()\n",
    "model.add(Embedding(vocab_size, EMBED_DIM, input_length=maxlen, embeddings_regularizer=regularizers.l2(0.001)))\n",
    "model.add(Dropout(0.5))\n",
    "model.add(Bidirectional(LSTM(128, recurrent_dropout=0.4)))\n",
    "model.add(Dropout(0.5))\n",
    "model.add(Dense(1, activation='sigmoid'))\n",
    "\n",
    "\n",
    "model.compile(loss='binary_crossentropy',\n",
    "              optimizer='adagrad',\n",
    "              metrics=['acc'])\n",
    "\n",
    "keras2ascii(model)"
   ]
  },
  {
   "cell_type": "code",
   "execution_count": 26,
   "metadata": {
    "scrolled": false
   },
   "outputs": [
    {
     "data": {
      "image/png": "[encoded data removed]",
      "text/plain": [
       "<Figure size 864x576 with 2 Axes>"
      ]
     },
     "metadata": {
      "needs_background": "light"
     },
     "output_type": "display_data"
    },
    {
     "name": "stderr",
     "output_type": "stream",
     "text": [
      "\r",
      "0it [00:00, ?it/s]"
     ]
    },
    {
     "name": "stdout",
     "output_type": "stream",
     "text": [
      "Log-loss (cost function):\n",
      "training   (min:    0.507, max:    1.389, cur:    0.507)\n",
      "validation (min:    0.571, max:    0.674, cur:    0.571)\n",
      "\n",
      "Accuracy:\n",
      "training   (min:    0.718, max:    0.889, cur:    0.889)\n",
      "validation (min:    0.804, max:    0.852, cur:    0.852)\n"
     ]
    }
   ],
   "source": [
    "history = tqdm(model.fit(X_train, y_train,\n",
    "                    epochs=5,\n",
    "                    batch_size=128,\n",
    "                    validation_data=(X_val, y_val),\n",
    "                    callbacks=[PlotLossesKeras()],\n",
    "                    verbose=1))"
   ]
  },
  {
   "cell_type": "code",
   "execution_count": 27,
   "metadata": {},
   "outputs": [
    {
     "name": "stdout",
     "output_type": "stream",
     "text": [
      "5000/5000 [==============================] - 16s 3ms/step\n",
      "[0.5618007720947266, 0.851]\n",
      "Accuracy:  0.851\n",
      "F1 score:  0.8509417241582818\n"
     ]
    }
   ],
   "source": [
    "y_pred = model.predict_classes(X_test)\n",
    "evaluation1 = model.evaluate(X_test, y_test)\n",
    "acc1 = accuracy_score(y_test, y_pred)\n",
    "f1_1 = f1_score(y_test, y_pred, average='weighted')\n",
    "print(evaluation1)\n",
    "print('Accuracy: ', acc1)\n",
    "print('F1 score: ', f1_1)"
   ]
  },
  {
   "cell_type": "code",
   "execution_count": 28,
   "metadata": {},
   "outputs": [],
   "source": [
    "reviews = []\n",
    "for i in range(len(pre_proces_sen)):\n",
    "    reviews.append(pre_proces_sen[i].split())"
   ]
  },
  {
   "cell_type": "code",
   "execution_count": 29,
   "metadata": {},
   "outputs": [
    {
     "name": "stdout",
     "output_type": "stream",
     "text": [
      "CPU times: user 1min 1s, sys: 117 ms, total: 1min 1s\n",
      "Wall time: 1min 1s\n"
     ]
    }
   ],
   "source": [
    "%%time\n",
    "import gensim\n",
    "word2vec = gensim.models.Word2Vec(sentences=reviews,size=EMBED_DIM,\n",
    "                                  window=5,workers=4,min_count=3)"
   ]
  },
  {
   "cell_type": "code",
   "execution_count": 30,
   "metadata": {
    "scrolled": true
   },
   "outputs": [
    {
     "name": "stdout",
     "output_type": "stream",
     "text": [
      "vocabulary size: 37248\n"
     ]
    }
   ],
   "source": [
    "words=list(word2vec.wv.vocab)\n",
    "print(\"vocabulary size:\",len(words))"
   ]
  },
  {
   "cell_type": "code",
   "execution_count": 31,
   "metadata": {},
   "outputs": [
    {
     "data": {
      "text/plain": [
       "['william',\n",
       " 'shakespeare',\n",
       " 'would',\n",
       " 'proud',\n",
       " 'particular',\n",
       " 'version',\n",
       " 'play',\n",
       " 'best',\n",
       " 'movie',\n",
       " 'also']"
      ]
     },
     "execution_count": 31,
     "metadata": {},
     "output_type": "execute_result"
    }
   ],
   "source": [
    "words[:10]"
   ]
  },
  {
   "cell_type": "code",
   "execution_count": 32,
   "metadata": {},
   "outputs": [],
   "source": [
    "embedding_weights = np.zeros((vocab_size, EMBED_DIM))\n",
    "for word, index in tokenizer.word_index.items():\n",
    "    try:\n",
    "        embedding_weights[index] = word2vec.wv.get_vector(word)\n",
    "    except:\n",
    "        pass "
   ]
  },
  {
   "cell_type": "code",
   "execution_count": 33,
   "metadata": {},
   "outputs": [],
   "source": [
    "from keras.initializers import Constant"
   ]
  },
  {
   "cell_type": "code",
   "execution_count": 72,
   "metadata": {},
   "outputs": [
    {
     "name": "stdout",
     "output_type": "stream",
     "text": [
      "           OPERATION           DATA DIMENSIONS   WEIGHTS(N)   WEIGHTS(%)\n",
      "\n",
      "               Input   #####         100\n",
      "           Embedding   emb | -------------------  36697500    98.3%\n",
      "                       #####    100  500\n",
      "             Dropout    | || -------------------         0     0.0%\n",
      "                       #####    100  500\n",
      "       Bidirectional   ????? -------------------    644096     1.7%\n",
      "                       #####         256\n",
      "             Dropout    | || -------------------         0     0.0%\n",
      "                       #####         256\n",
      "               Dense   XXXXX -------------------       257     0.0%\n",
      "             sigmoid   #####           1\n"
     ]
    }
   ],
   "source": [
    "model = Sequential()\n",
    "model.add(Embedding(vocab_size, EMBED_DIM, input_length=maxlen, embeddings_regularizer=regularizers.l2(0.001),\n",
    "                   weights=[embedding_weights]))\n",
    "model.add(Dropout(0.5))\n",
    "model.add(Bidirectional(LSTM(128, recurrent_dropout=0.4)))\n",
    "model.add(Dropout(0.5))\n",
    "model.add(Dense(1, activation='sigmoid'))\n",
    "\n",
    "\n",
    "model.compile(loss='binary_crossentropy',\n",
    "              optimizer='adagrad',\n",
    "              metrics=['acc'])\n",
    "\n",
    "keras2ascii(model)"
   ]
  },
  {
   "cell_type": "code",
   "execution_count": 73,
   "metadata": {},
   "outputs": [
    {
     "data": {
      "image/png": "[encoded data removed]",
      "text/plain": [
       "<Figure size 864x576 with 2 Axes>"
      ]
     },
     "metadata": {
      "needs_background": "light"
     },
     "output_type": "display_data"
    },
    {
     "name": "stderr",
     "output_type": "stream",
     "text": [
      "\n",
      "\n",
      "\n",
      "\n",
      "\n",
      "\n",
      "0it [00:00, ?it/s]\u001b[A\u001b[A\u001b[A\u001b[A\u001b[A\u001b[A"
     ]
    },
    {
     "name": "stdout",
     "output_type": "stream",
     "text": [
      "Log-loss (cost function):\n",
      "training   (min:    7.267, max:   74.862, cur:    7.267)\n",
      "validation (min:    6.910, max:   47.398, cur:    6.910)\n",
      "\n",
      "Accuracy:\n",
      "training   (min:    0.688, max:    0.886, cur:    0.886)\n",
      "validation (min:    0.765, max:    0.860, cur:    0.847)\n"
     ]
    }
   ],
   "source": [
    "history = tqdm(model.fit(X_train, y_train,\n",
    "                    epochs=10,\n",
    "                    batch_size=128,\n",
    "                    validation_data=(X_val, y_val),\n",
    "                    callbacks=[PlotLossesKeras()],\n",
    "                    verbose=1))"
   ]
  },
  {
   "cell_type": "code",
   "execution_count": 74,
   "metadata": {},
   "outputs": [
    {
     "name": "stdout",
     "output_type": "stream",
     "text": [
      "5000/5000 [==============================] - 16s 3ms/step\n",
      "[6.8980816513061525, 0.8488]\n",
      "Accuracy:  0.8488\n",
      "F1 score:  0.8479178939382327\n"
     ]
    }
   ],
   "source": [
    "y_pred = model.predict_classes(X_test)\n",
    "evaluation1 = model.evaluate(X_test, y_test)\n",
    "acc1 = accuracy_score(y_test, y_pred)\n",
    "f1_1 = f1_score(y_test, y_pred, average='weighted')\n",
    "print(evaluation1)\n",
    "print('Accuracy: ', acc1)\n",
    "print('F1 score: ', f1_1)"
   ]
  },
  {
   "cell_type": "code",
   "execution_count": 35,
   "metadata": {},
   "outputs": [],
   "source": [
    "from keras.layers import MaxPooling1D"
   ]
  },
  {
   "cell_type": "code",
   "execution_count": 39,
   "metadata": {},
   "outputs": [
    {
     "name": "stdout",
     "output_type": "stream",
     "text": [
      "           OPERATION           DATA DIMENSIONS   WEIGHTS(N)   WEIGHTS(%)\n",
      "\n",
      "               Input   #####         100\n",
      "           Embedding   emb | -------------------  36697500    99.3%\n",
      "                       #####    100  500\n",
      "              Conv1D    \\|/  -------------------    192128     0.5%\n",
      "                relu   #####    100  128\n",
      "             Dropout    | || -------------------         0     0.0%\n",
      "                       #####    100  128\n",
      "        MaxPooling1D   Y max -------------------         0     0.0%\n",
      "                       #####     50  128\n",
      "             Dropout    | || -------------------         0     0.0%\n",
      "                       #####     50  128\n",
      "                LSTM   LLLLL -------------------     49408     0.1%\n",
      "                tanh   #####          64\n",
      "             Dropout    | || -------------------         0     0.0%\n",
      "                       #####          64\n",
      "               Dense   XXXXX -------------------        65     0.0%\n",
      "             sigmoid   #####           1\n"
     ]
    }
   ],
   "source": [
    "model = Sequential()\n",
    "model.add(Embedding(vocab_size, EMBED_DIM, input_length=maxlen,\n",
    "                    weights=[embedding_weights]))\n",
    "model.add(Conv1D(filters=128, kernel_size=3, padding='same', activation='relu'))\n",
    "model.add(Dropout(0.5))\n",
    "model.add(MaxPooling1D(pool_size=2))\n",
    "model.add(Dropout(0.4))\n",
    "model.add(LSTM(64, recurrent_dropout=0.4))\n",
    "model.add(Dropout(0.3))\n",
    "model.add(Dense(1, activation='sigmoid'))\n",
    "model.compile(loss='binary_crossentropy',\n",
    "              optimizer='adagrad',\n",
    "              metrics=['acc'])\n",
    "\n",
    "keras2ascii(model)"
   ]
  },
  {
   "cell_type": "code",
   "execution_count": 40,
   "metadata": {},
   "outputs": [
    {
     "data": {
      "image/png": "[encoded data removed]",
      "text/plain": [
       "<Figure size 864x576 with 2 Axes>"
      ]
     },
     "metadata": {
      "needs_background": "light"
     },
     "output_type": "display_data"
    },
    {
     "name": "stderr",
     "output_type": "stream",
     "text": [
      "\n",
      "\n",
      "0it [00:00, ?it/s]\u001b[A\u001b[A"
     ]
    },
    {
     "name": "stdout",
     "output_type": "stream",
     "text": [
      "Log-loss (cost function):\n",
      "training   (min:    0.075, max:    0.619, cur:    0.075)\n",
      "validation (min:    0.407, max:    0.731, cur:    0.549)\n",
      "\n",
      "Accuracy:\n",
      "training   (min:    0.649, max:    0.980, cur:    0.980)\n",
      "validation (min:    0.763, max:    0.861, cur:    0.860)\n"
     ]
    }
   ],
   "source": [
    "history = tqdm(model.fit(X_train, y_train,\n",
    "                    epochs=10,\n",
    "                    batch_size=128,\n",
    "                    validation_data=(X_val, y_val),\n",
    "                    callbacks=[PlotLossesKeras()],\n",
    "                    verbose=1))"
   ]
  },
  {
   "cell_type": "code",
   "execution_count": 41,
   "metadata": {},
   "outputs": [
    {
     "name": "stdout",
     "output_type": "stream",
     "text": [
      "5000/5000 [==============================] - 5s 992us/step\n",
      "[0.5437909519642592, 0.8612]\n",
      "Accuracy:  0.8612\n",
      "F1 score:  0.8612005774083696\n"
     ]
    }
   ],
   "source": [
    "y_pred = model.predict_classes(X_test)\n",
    "evaluation1 = model.evaluate(X_test, y_test)\n",
    "acc1 = accuracy_score(y_test, y_pred)\n",
    "f1_1 = f1_score(y_test, y_pred, average='weighted')\n",
    "print(evaluation1)\n",
    "print('Accuracy: ', acc1)\n",
    "print('F1 score: ', f1_1)"
   ]
  }
 ],
 "metadata": {
  "kernelspec": {
   "display_name": "Python 3",
   "language": "python",
   "name": "python3"
  },
  "language_info": {
   "codemirror_mode": {
    "name": "ipython",
    "version": 3
   },
   "file_extension": ".py",
   "mimetype": "text/x-python",
   "name": "python",
   "nbconvert_exporter": "python",
   "pygments_lexer": "ipython3",
   "version": "3.7.4"
  }
 },
 "nbformat": 4,
 "nbformat_minor": 2
}
